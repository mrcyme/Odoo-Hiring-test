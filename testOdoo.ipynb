{
  "nbformat": 4,
  "nbformat_minor": 0,
  "metadata": {
    "colab": {
      "name": "test Odoo",
      "provenance": [],
      "authorship_tag": "ABX9TyMAb0efmmJTk3g2+W7rgglE",
      "include_colab_link": true
    },
    "kernelspec": {
      "name": "python3",
      "display_name": "Python 3"
    }
  },
  "cells": [
    {
      "cell_type": "markdown",
      "metadata": {
        "id": "view-in-github",
        "colab_type": "text"
      },
      "source": [
        "<a href=\"https://colab.research.google.com/github/mrcyme/Odoo-Hiring-test/blob/main/testOdoo.ipynb\" target=\"_parent\"><img src=\"https://colab.research.google.com/assets/colab-badge.svg\" alt=\"Open In Colab\"/></a>"
      ]
    },
    {
      "cell_type": "markdown",
      "metadata": {
        "id": "XTao2EkM4NYg"
      },
      "source": [
        "# Technical test"
      ]
    },
    {
      "cell_type": "markdown",
      "metadata": {
        "id": "JU8qB-7cqTvY"
      },
      "source": [
        "Test 1: Any language (3/20). Write a program that outputs sequentially the integers from 1 to 99, but on some conditions prints a string instead:\n",
        "\n",
        "* when the integer is a multiple of 3 print “Open” instead of the number\n",
        "\n",
        "* when it is a multiple of 7 print “Source” instead of the number,\n",
        "\n",
        "* when it is a multiple of both 3 and 7 print “OpenSource” instead of the number."
      ]
    },
    {
      "cell_type": "code",
      "metadata": {
        "id": "Qjo7jyECdNLP"
      },
      "source": [
        "for i in range (1,100):\r\n",
        "  if i % 3 ==0 and i%7==0:\r\n",
        "    print(\"OpenSource\")\r\n",
        "  elif i % 3 ==0:\r\n",
        "    print(\"Open\")\r\n",
        "  elif i%7 == 0:\r\n",
        "    print(\"Source\")\r\n",
        "  else:\r\n",
        "    print(i)"
      ],
      "execution_count": null,
      "outputs": []
    },
    {
      "cell_type": "markdown",
      "metadata": {
        "id": "p2Iz7A9Sqd8Z"
      },
      "source": [
        "\n",
        "Test 2: Any language (3/20).\n",
        "Solve the game \"Guess a number\", find a secret integer between 1 and 1000000\n",
        "in less than 50 guesses. Write a function that solves the game without user input and returns the solution by using the function verify() which is defined with the following specification:\n",
        "* function verify(guess: integer) -> integer\n",
        "* Argument:\n",
        "    *  guess (integer) the number to verify\n",
        "* Returns:\n",
        "     * 0 if the guess is the solution, your program won\n",
        "     * -1 if the solution is smaller than the guess parameter\n",
        "     * 1  if the solution is bigger than the guess parameter\n",
        "\n",
        "Warning: You are not allowed to call verify() more that 50 times or you lose.\n",
        "\n"
      ]
    },
    {
      "cell_type": "code",
      "metadata": {
        "id": "NdKn2mRxd4jX"
      },
      "source": [
        "import random\r\n",
        "\r\n",
        "lowerBound=1\r\n",
        "upperBound=1000000\r\n",
        "solution = 54874\r\n",
        "\r\n",
        "def verifyInteger(guess):\r\n",
        "  if guess == solution:\r\n",
        "    return 0\r\n",
        "  elif solution<guess:\r\n",
        "    return -1\r\n",
        "  else:\r\n",
        "    return 1\r\n",
        "\r\n",
        "def guessTheNumber(lowerBound,upperBound):\r\n",
        "  for i in range(50):\r\n",
        "    guess = random.randint(lowerBound,upperBound)\r\n",
        "    res = verifyInteger(guess)\r\n",
        "    if res <0:\r\n",
        "      upperBound=guess\r\n",
        "    elif res>0:\r\n",
        "      lowerBound = guess\r\n",
        "    else:\r\n",
        "      return \"bravo you won\"\r\n",
        "  return \"snif you loose\"\r\n",
        "\r\n",
        "guessTheNumber(lowerBound,upperBound)"
      ],
      "execution_count": null,
      "outputs": []
    },
    {
      "cell_type": "markdown",
      "metadata": {
        "id": "-3XkP1q0qgOp"
      },
      "source": [
        "Test 3: Any language (3/20). Write a function that takes a list of strings and returns the sum of the list items that represent an integer (skipping the other items)"
      ]
    },
    {
      "cell_type": "code",
      "metadata": {
        "id": "Qvea_NlnfLy7"
      },
      "source": [
        "def sumList(li):\r\n",
        "  sum=0\r\n",
        "  for elem in li:\r\n",
        "    try:\r\n",
        "      sum+=int(elem)\r\n",
        "    except ValueError:\r\n",
        "      continue\r\n",
        "  return sum\r\n",
        "  \r\n",
        "def testsumList():\r\n",
        "  li = ['sal','4','yoyoi',\"-4\",\"ueu\",\"2\"]\r\n",
        "  return sumList(li)==2\r\n",
        "testsumList()"
      ],
      "execution_count": 1,
      "outputs": []
    },
    {
      "cell_type": "markdown",
      "metadata": {
        "id": "AcAQbcOfqkFh"
      },
      "source": [
        "Test 4: Any language (1/20). Write a recursive version of the previous function (or an iterative version if you have already done a recursive version).\n",
        " "
      ]
    },
    {
      "cell_type": "code",
      "metadata": {
        "id": "Oiqwy6PPfj7y"
      },
      "source": [
        "def sumListrecursive(li):\r\n",
        "  if len(li)==0:\r\n",
        "    return 0\r\n",
        "  elif len(li)==1:\r\n",
        "    try:\r\n",
        "      res = int(li[0])\r\n",
        "    except:\r\n",
        "      #There are no string castable to int in the list\r\n",
        "      res = 0\r\n",
        "    return res\r\n",
        "  else:\r\n",
        "    try:\r\n",
        "      a=int(li[0])\r\n",
        "      try:\r\n",
        "        b=int(li[1])\r\n",
        "        li[0]=int(li[0])+int(li[1])\r\n",
        "        li.pop(1)\r\n",
        "      except:\r\n",
        "        li.pop(1)\r\n",
        "    except:\r\n",
        "      li.pop(0)\r\n",
        "    sumListrecursive(li)\r\n"
      ],
      "execution_count": null,
      "outputs": []
    },
    {
      "cell_type": "markdown",
      "metadata": {
        "id": "5KDfClW9qp_h"
      },
      "source": [
        "Test 5: SQL (3/20). \n",
        "* Write pseudo-SQL statements to create database tables to store the products of a basic webshop. Each product has a name, a price, a creation date and may belong to several categories. Categories have a name and a flag to indicate whether the category is private or public.\n",
        "\n",
        "* Write a SQL query to find the list of products that belong to more than 5 public categories.\n",
        "\n",
        "\n"
      ]
    },
    {
      "cell_type": "markdown",
      "metadata": {
        "id": "JVkMnID0quUZ"
      },
      "source": [
        "\n",
        "Test 6: Any language (1/20). Write a program to download the contents of https://www.sap.com/belgique/index.html (the SAP homepage for Belgium), and then save the contents of the page to a new local file, with all occurrences of \"SAP\" replaced by \"Odoo\"."
      ]
    },
    {
      "cell_type": "code",
      "metadata": {
        "id": "jxHdz4VIhfFZ"
      },
      "source": [
        "import requests\r\n",
        "url = 'https://www.sap.com/belgique/index.html'\r\n",
        "r = requests.get(url, allow_redirects=True)\r\n",
        "content = r.content.decode('UTF-8')\r\n",
        "new_content = content.replace(\"SAP\",\"Odoo\")\r\n",
        "with open('file.txt', 'w') as f:\r\n",
        "  f.write(new_content)"
      ],
      "execution_count": 4,
      "outputs": []
    },
    {
      "cell_type": "markdown",
      "metadata": {
        "id": "11RgJ_BuqyDZ"
      },
      "source": [
        "Test 7: Any language (2/20). You have a huge file named \"data.bin\" that does not fit in memory; code a program that deletes every 7th byte of it. truncate can be used to change its size."
      ]
    },
    {
      "cell_type": "code",
      "metadata": {
        "id": "SCagFSt9xaze"
      },
      "source": [
        "with open(\"data.bin\", \"rb\") as f:\n",
        "    byte = f.read(1)\n",
        "    new_file = open(\"new_data.bin\",'wb')\n",
        "    inc = 1\n",
        "    while byte:\n",
        "        if inc%7==0:\n",
        "          pass\n",
        "        else:\n",
        "          new_file.write(byte)\n",
        "        byte = f.read(1)\n",
        "        inc+=1\n",
        "    new_file.close()"
      ],
      "execution_count": null,
      "outputs": []
    },
    {
      "cell_type": "markdown",
      "metadata": {
        "id": "iOdhQfoOqzlh"
      },
      "source": [
        "Test 8: Regular Expression (2/20). Write a regular expression to match strings containing both \"Odoo\" and \"#rules\" in any order."
      ]
    },
    {
      "cell_type": "code",
      "metadata": {
        "id": "Xj6UmOFuqRkC"
      },
      "source": [
        "\"Odoo.*#rules|#rules.*Odoo\"\r\n",
        "\r\n",
        "Language : Python\r\n",
        "import re\r\n",
        "def match(text):\r\n",
        "  return re.search(\"Odoo.*#rules|#rules.*Odoo\",text)\r\n",
        "  \r\n",
        "def test_match():\r\n",
        "  texts = [\"I love Odoo, #rules\",\"Lot of fun\",\"there are no rules at Odoo\",\"Odoo\",\"there are no #rules at Odoo\"]\r\n",
        "  res = [match(text)!=None for text in texts]\r\n",
        "  return res == [True,False,False,False,True]\r\n",
        "test_match()"
      ],
      "execution_count": null,
      "outputs": []
    },
    {
      "cell_type": "markdown",
      "metadata": {
        "id": "2vmapShMqS4w"
      },
      "source": [
        "Test 9: Javascript (1/20). Write a function that, when called, returns an array for which each element is a letter of the alphabet, from \"A\" to \"Z\" (exactly once, in order and upper case). Your code cannot contain the character ' (quote), \" (double quote) or ` (back quote)"
      ]
    },
    {
      "cell_type": "markdown",
      "metadata": {
        "id": "Kw3i4XTGzAmf"
      },
      "source": [
        "\n",
        " ```js\n",
        "function arrayAlphabet() {\n",
        "  let arr =[];\n",
        "  for (let i = 0; i < 26; i++) { \n",
        "    arr[i]=(i+10).toString(36).toUpperCase()\n",
        "  }\n",
        "  return arr\n",
        "}\n",
        "```"
      ]
    },
    {
      "cell_type": "markdown",
      "metadata": {
        "id": "mY6aWuk5zb1N"
      },
      "source": [
        "\n",
        "Test 10: Unix (1/20). Write a C program that roughly measures the overhead of a mode switch between the kernel and userspace on a UNIX/Linux system (without using the pthread API). Please indicate the assumptions your rough estimation is based on."
      ]
    },
    {
      "cell_type": "markdown",
      "metadata": {
        "id": "Y7ia81pYzxLZ"
      },
      "source": [
        "To get a switch between the kernel and userspace, we can use the syscall function. Syscall invokes the system call whose assembly language interface has the specified number with the specified arguments (1). The fastest (so the most reliable for time estimation) syscall is the one with an invalid parameter (2).\n",
        "In the following function, a syscall is called with parameter -1 wich should be invalid (I guess)\n",
        "```\n",
        "#include<time.h>\n",
        "#include<stdio.h>\n",
        "#include <unistd.h>\n",
        "#include <sys/syscall.h> \n",
        "\n",
        "int main(){\n",
        "    clock_t begin=clock();\n",
        "\n",
        "    int i;\n",
        "    int j=-1;\n",
        "    for(i=0;i<1000000;i++){\n",
        "        syscall(j);\n",
        "    }\n",
        "    clock_t end=clock();\n",
        "    printf(\"Time taken:%lf\",(double)(end-begin)/1000000/CLOCKS_PER_SEC/2);\n",
        "}\n",
        "\n",
        " ```\n",
        "The time is divided by the number the number of clock ticks per second to get processor time and by two because syscall is a round trip (from kernel to user and from user to kernel)\n",
        "\n",
        "source : \n",
        "(1) https://man7.org/linux/man-pages/man2/syscall.2.html\n",
        "(2) https://stackoverflow.com/questions/54551770/measure-overhead-without-pthread-in-c"
      ]
    },
    {
      "cell_type": "markdown",
      "metadata": {
        "id": "JiCIazrO4CA_"
      },
      "source": [
        "# Technical Interview \n",
        "In the technical Interview, one of the question was to write a function able to calculate an expression given in reverse polish notation, then it was asked to modify the function in order to convert reverse polish notation to aritmetic notation.\n"
      ]
    },
    {
      "cell_type": "code",
      "metadata": {
        "id": "fdL71o7h2hqB"
      },
      "source": [
        "import math\n",
        "import operator\n",
        "\n",
        "def rpn_calculator(input):\n",
        "  \"\"\"working version using recursion. \n",
        "  This function return the result of a calculation given in Reverse Polish Notation\n",
        "\n",
        "  :params: input : list of arguments and operands in reverse polish notation\n",
        "  :return : result of the operation\n",
        "  \"\"\"\n",
        "  operators = {\"+\":operator.add,\"-\":operator.sub,\"*\":operator.mul,\"/\":operator.truediv}\n",
        "  while len(input)>1:\n",
        "    for i, elem in enumerate(input):\n",
        "      if elem in operators.keys():\n",
        "        op = input.pop(i)\n",
        "        arg2 = float(input.pop(i-1))\n",
        "        arg1 = float(input[i-2])\n",
        "        input[i-2] = operators[op](arg1,arg2)\n",
        "        break\n",
        "      elif elem == \"sqrt\":\n",
        "        arg1 = input[i-1]\n",
        "        op = input.pop(i)\n",
        "        input[i-1]=math.sqrt(arg1)  \n",
        "        break\n",
        "\n",
        "    rpn_calculator(input)\n",
        "  return input[0]\n",
        "\n",
        "\n",
        "def rpn_to_arithmetic(input):\n",
        "  \"\"\" \n",
        "  This function return the aritmetic notation of calculation given in Reverse Polish Notation\n",
        "\n",
        "  :params: input : list of arguments and operands in reverse polish notation\n",
        "  :return : result of the operation\n",
        "  \"\"\"\n",
        "  operators = {\"+\":operator.add,\"-\":operator.sub,\"*\":operator.mul,\"/\":operator.truediv}\n",
        "  while len(input)>1:\n",
        "    for i, elem in enumerate(input):\n",
        "      if elem in operators.keys():\n",
        "        input[i-2] = \"(\"+input[i-2]+input.pop(i)+input.pop(i-1)+\")\"\n",
        "        break\n",
        "      elif elem ==\"sqrt\":\n",
        "        input[i-1] = input.pop(i)+\"(\"+input[i-1]+\")\"\n",
        "        break\n",
        "    rpn_to_normal(input)\n",
        "  return input[0]\n",
        "\n",
        "\n",
        "\n",
        "\n",
        "def calculate_rpn(input_str):\n",
        "  to_list = input_str.split(\" \")\n",
        "  return rpn_calculator(to_list)\n",
        "\n",
        "def convert_rpn_to_arithmetic(input_str):\n",
        "  to_list = input_str.split(\" \")\n",
        "  return rpn_to_arithmetic(to_list)\n",
        "\n",
        "\n",
        "def test_calculator(inputs,results):\n",
        "  r = [calculate(inputs[i])== results[i] for i in range(len(inputs))]\n",
        "  return all(r)\n",
        "\n",
        "inputs = [\"3 4 2 + *\",\"5 4 2 * 3 + + sqrt\",\"3.12 4 + 2 *\",\"6 8 4 + 3 2 + - *\"]\n",
        "results = [18.0,4.0,14.24,42.0]\n",
        "test_calculator(inputs,results)\n"
      ],
      "execution_count": null,
      "outputs": []
    }
  ]
}